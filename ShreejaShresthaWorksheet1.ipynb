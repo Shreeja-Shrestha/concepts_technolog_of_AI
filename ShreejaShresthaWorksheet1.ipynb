{
  "nbformat": 4,
  "nbformat_minor": 0,
  "metadata": {
    "colab": {
      "provenance": []
    },
    "kernelspec": {
      "name": "python3",
      "display_name": "Python 3"
    },
    "language_info": {
      "name": "python"
    }
  },
  "cells": [
    {
      "cell_type": "code",
      "execution_count": null,
      "metadata": {
        "colab": {
          "base_uri": "https://localhost:8080/"
        },
        "id": "uSedzsGYT69F",
        "outputId": "95cbc876-4df3-4dd9-8ff5-652cda23473e"
      },
      "outputs": [
        {
          "output_type": "stream",
          "name": "stdout",
          "text": [
            "[[6.61217384e-310 0.00000000e+000]\n",
            " [6.25285810e-091 4.08467246e+179]]\n"
          ]
        }
      ],
      "source": [
        "#problem 1\n",
        "# Initialize an empty array with size 2X2.\n",
        "import numpy as np\n",
        "n= np.empty((2,2))\n",
        "print(n)"
      ]
    },
    {
      "cell_type": "code",
      "source": [
        " #Initialize an all one array with size 4X2\n",
        "import numpy as np\n",
        "n1=np.zeros([4,2])\n",
        "print(n1)"
      ],
      "metadata": {
        "colab": {
          "base_uri": "https://localhost:8080/"
        },
        "id": "MEPBlcogsxK8",
        "outputId": "78896379-4d4b-4c19-ef7d-c783943f365f"
      },
      "execution_count": null,
      "outputs": [
        {
          "output_type": "stream",
          "name": "stdout",
          "text": [
            "[[0. 0.]\n",
            " [0. 0.]\n",
            " [0. 0.]\n",
            " [0. 0.]]\n"
          ]
        }
      ]
    },
    {
      "cell_type": "code",
      "source": [
        "#Return a new array of given shape and type, filled with fill value.{Hint: np.full}\n",
        "import numpy as np\n",
        "fill_value=5\n",
        "filled_array=np.full((2,2),fill_value)\n",
        "print(filled_array)\n"
      ],
      "metadata": {
        "colab": {
          "base_uri": "https://localhost:8080/"
        },
        "id": "cxnnzVXjVnRo",
        "outputId": "8a2244ab-68f2-4554-f549-99a77de72bf5"
      },
      "execution_count": null,
      "outputs": [
        {
          "output_type": "stream",
          "name": "stdout",
          "text": [
            "[[5 5]\n",
            " [5 5]]\n"
          ]
        }
      ]
    },
    {
      "cell_type": "code",
      "source": [
        "# Return a new array of zeros with same shape and type as a given array.\n",
        "import numpy as np\n",
        "arrays=np.array([[1,2],[3,4]])\n",
        "print(np.zeros_like(arrays))\n"
      ],
      "metadata": {
        "colab": {
          "base_uri": "https://localhost:8080/"
        },
        "id": "nehZryyGvHlQ",
        "outputId": "037852f5-26df-4159-fccb-0d4c6c6bae16"
      },
      "execution_count": null,
      "outputs": [
        {
          "output_type": "stream",
          "name": "stdout",
          "text": [
            "[[0 0]\n",
            " [0 0]]\n"
          ]
        }
      ]
    },
    {
      "cell_type": "code",
      "source": [
        "# Return a new array of ones with same shape and type as a given array.\n",
        "import numpy as np\n",
        "arrays=np.array([[1,2],[3,4]])\n",
        "print(np.ones_like(arrays))\n"
      ],
      "metadata": {
        "colab": {
          "base_uri": "https://localhost:8080/"
        },
        "id": "w29EwZenv1AI",
        "outputId": "842cb2d4-1954-4d84-ee6e-784a2df1211b"
      },
      "execution_count": null,
      "outputs": [
        {
          "output_type": "stream",
          "name": "stdout",
          "text": [
            "[[1 1]\n",
            " [1 1]]\n"
          ]
        }
      ]
    },
    {
      "cell_type": "code",
      "source": [
        "# 6. For an existing list new_list = [1,2,3,4] convert to an numpy array.{Hint: np.array()}\n",
        "import numpy as np\n",
        "new_list=[1,2,3,4]\n",
        "print(np.array(new_list))"
      ],
      "metadata": {
        "colab": {
          "base_uri": "https://localhost:8080/"
        },
        "id": "lIje5Rr7wGGo",
        "outputId": "d6444074-a075-43c4-dbe2-5ff2569d318c"
      },
      "execution_count": null,
      "outputs": [
        {
          "output_type": "stream",
          "name": "stdout",
          "text": [
            "[1 2 3 4]\n"
          ]
        }
      ]
    },
    {
      "cell_type": "code",
      "source": [
        "#problem2\n",
        "# 1. Create an array with values ranging from 10 to 49.\n",
        "value=np.arange(10,50)\n",
        "print(value)\n"
      ],
      "metadata": {
        "colab": {
          "base_uri": "https://localhost:8080/"
        },
        "id": "NqMjWDn5wvSs",
        "outputId": "7efc7c59-45ac-43f6-8cde-3fcf37bfe433"
      },
      "execution_count": null,
      "outputs": [
        {
          "output_type": "stream",
          "name": "stdout",
          "text": [
            "[10 11 12 13 14 15 16 17 18 19 20 21 22 23 24 25 26 27 28 29 30 31 32 33\n",
            " 34 35 36 37 38 39 40 41 42 43 44 45 46 47 48 49]\n"
          ]
        }
      ]
    },
    {
      "cell_type": "code",
      "source": [
        "# 2. Create a 3X3 matrix with values ranging from 0 to 8.\n",
        "import numpy as np\n",
        "array=np.arange(0,9)\n",
        "matrix=np.reshape(array,(3,3))\n",
        "print(matrix)"
      ],
      "metadata": {
        "colab": {
          "base_uri": "https://localhost:8080/"
        },
        "id": "c2ZVEwLEzs5G",
        "outputId": "967b1e18-5ea6-44fb-c135-72b0e3764e9f"
      },
      "execution_count": null,
      "outputs": [
        {
          "output_type": "stream",
          "name": "stdout",
          "text": [
            "[[0 1 2]\n",
            " [3 4 5]\n",
            " [6 7 8]]\n"
          ]
        }
      ]
    },
    {
      "cell_type": "code",
      "source": [
        "#3.create 3x3 identity matrix\n",
        "array=np.eye(3,3)\n",
        "print(array)\n"
      ],
      "metadata": {
        "colab": {
          "base_uri": "https://localhost:8080/"
        },
        "id": "ppPNHOyP1oky",
        "outputId": "8810680d-e2df-44bd-e73e-a0ae810ce917"
      },
      "execution_count": null,
      "outputs": [
        {
          "output_type": "stream",
          "name": "stdout",
          "text": [
            "[[1. 0. 0.]\n",
            " [0. 1. 0.]\n",
            " [0. 0. 1.]]\n"
          ]
        }
      ]
    },
    {
      "cell_type": "code",
      "source": [
        "#Create a random array of size 30 and find the mean of the array.\n",
        "#{Hint:check for np.random.random() and array.mean() function}\n",
        "arrays=np.random.random(30)\n",
        "print(\"the randome numbers\",arrays)\n",
        "print(\"The mean of the random number is \",np.mean(arrays))\n",
        "\n"
      ],
      "metadata": {
        "colab": {
          "base_uri": "https://localhost:8080/"
        },
        "id": "GS89Pups2JZM",
        "outputId": "a7f79f0c-8a50-4cde-eebb-a3b624a1cd7e"
      },
      "execution_count": null,
      "outputs": [
        {
          "output_type": "stream",
          "name": "stdout",
          "text": [
            "[0.13191377 0.71635141 0.23719647 0.16481019 0.46685774 0.57380368\n",
            " 0.8498159  0.58602188 0.4117075  0.97780306 0.2664107  0.50230144\n",
            " 0.21935948 0.89995075 0.59877059 0.41569809 0.19273922 0.77914964\n",
            " 0.07891481 0.59004194 0.4154863  0.04313659 0.42122755 0.08096679\n",
            " 0.3045144  0.76417101 0.06939091 0.21962542 0.10835373 0.00915094]\n",
            "0.403188063861981\n"
          ]
        }
      ]
    },
    {
      "cell_type": "code",
      "source": [
        "# 5. Create a 10X10 array with random values and find the minimum and maximum values.\n",
        "array=np.random.random([10,10])\n",
        "print(array)\n",
        "print(\"the maximum value \",np.max(array))\n",
        "print(\"the minimum value\",np.min(array))"
      ],
      "metadata": {
        "colab": {
          "base_uri": "https://localhost:8080/"
        },
        "id": "j8pp6mfw3ibH",
        "outputId": "5b7ed71e-5f15-4b69-d120-9e81ac4b5262"
      },
      "execution_count": null,
      "outputs": [
        {
          "output_type": "stream",
          "name": "stdout",
          "text": [
            "[[0.1087963  0.35482298 0.67767096 0.97958676 0.31339873 0.03942206\n",
            "  0.01311897 0.75537551 0.74088412 0.2302827 ]\n",
            " [0.8725382  0.7827739  0.05072188 0.79294938 0.27219924 0.71119863\n",
            "  0.66983156 0.53527241 0.66629614 0.27632568]\n",
            " [0.06196577 0.28235163 0.91124939 0.99819425 0.52324375 0.84876642\n",
            "  0.97754509 0.60359045 0.88370737 0.5565283 ]\n",
            " [0.60095033 0.44384405 0.71040134 0.39763446 0.06673447 0.12850088\n",
            "  0.95960551 0.41177548 0.80889413 0.00991241]\n",
            " [0.81280516 0.53768753 0.64673495 0.31085259 0.22442358 0.1524662\n",
            "  0.62607711 0.64133185 0.29049982 0.77732212]\n",
            " [0.49379894 0.76370329 0.37754203 0.23750683 0.57048749 0.84485672\n",
            "  0.0134386  0.12221157 0.20526146 0.85065481]\n",
            " [0.09750252 0.70041675 0.8510754  0.49459018 0.50079309 0.48574094\n",
            "  0.54636544 0.04983855 0.95361101 0.48021865]\n",
            " [0.05723896 0.82467667 0.2090257  0.57282168 0.28020744 0.38814484\n",
            "  0.41420764 0.0687801  0.57784059 0.57582744]\n",
            " [0.44341977 0.25152576 0.40324999 0.23177382 0.19143601 0.0268263\n",
            "  0.25101242 0.59337388 0.72886948 0.90868221]\n",
            " [0.56528812 0.11429471 0.19599226 0.57143359 0.77363171 0.64074506\n",
            "  0.13201692 0.17124108 0.04584876 0.42865644]]\n",
            "the maximum value  0.9981942501981431\n",
            "the minimum value 0.00991240756688716\n"
          ]
        }
      ]
    },
    {
      "cell_type": "code",
      "source": [
        "# 6.Create a zero array of size 10 and replace 5th element with 1\n",
        "array=np.zeros(10)\n",
        "array[4]=1\n",
        "print(array)"
      ],
      "metadata": {
        "colab": {
          "base_uri": "https://localhost:8080/"
        },
        "id": "rFTKdJNF3u27",
        "outputId": "b8ef0ed6-56ab-4dcd-e7e6-9d7b350323b6"
      },
      "execution_count": null,
      "outputs": [
        {
          "output_type": "stream",
          "name": "stdout",
          "text": [
            "[0. 0. 0. 0. 1. 0. 0. 0. 0. 0.]\n"
          ]
        }
      ]
    },
    {
      "cell_type": "code",
      "source": [
        "# 7. Reverse an array arr = [1,2,0,0,4,0].\n",
        "arr=[1,2,0,0,4,0]\n",
        "print(np.flip(arr))\n"
      ],
      "metadata": {
        "colab": {
          "base_uri": "https://localhost:8080/"
        },
        "id": "-kaFb3H_6KaX",
        "outputId": "8499d024-ce6e-41b3-efa3-de679bf01abc"
      },
      "execution_count": null,
      "outputs": [
        {
          "output_type": "stream",
          "name": "stdout",
          "text": [
            "[0 4 0 0 2 1]\n"
          ]
        }
      ]
    },
    {
      "cell_type": "code",
      "source": [
        "# Create a 2d array with 1 on border and 0 inside\n",
        "array=np.zeros((5,5))\n",
        "array[0, :] = 1 # Top row\n",
        "array[-1, :] = 1 # Bottom row\n",
        "array[:, 0] = 1 # Left column\n",
        "array[:, -1] = 1 # Right column\n",
        "print(array)\n"
      ],
      "metadata": {
        "colab": {
          "base_uri": "https://localhost:8080/"
        },
        "id": "51AJLVu-7-Lx",
        "outputId": "8c904fa2-7acf-4cd0-98cb-601e0bf3a2ce"
      },
      "execution_count": null,
      "outputs": [
        {
          "output_type": "stream",
          "name": "stdout",
          "text": [
            "[[1. 1. 1. 1. 1.]\n",
            " [1. 0. 0. 0. 1.]\n",
            " [1. 0. 0. 0. 1.]\n",
            " [1. 0. 0. 0. 1.]\n",
            " [1. 1. 1. 1. 1.]]\n"
          ]
        }
      ]
    },
    {
      "cell_type": "code",
      "source": [
        "# 9. Create a 8X8 matrix and fill it with a checkerboard pattern.\n",
        "import numpy as np\n",
        "\n",
        "# Create an 8x8 matrix\n",
        "matrix = np.zeros((8, 8), dtype=int)\n",
        "\n",
        "# Fill the matrix with a checkerboard pattern\n",
        "matrix[1::2, ::2] = 1\n",
        "matrix[::2, 1::2] = 1\n",
        "\n",
        "print(matrix)\n"
      ],
      "metadata": {
        "colab": {
          "base_uri": "https://localhost:8080/"
        },
        "id": "arEZuCK28pvY",
        "outputId": "9ad48d0d-2b6a-4859-d289-2ad2fb8a57db"
      },
      "execution_count": null,
      "outputs": [
        {
          "output_type": "stream",
          "name": "stdout",
          "text": [
            "[[0 1 0 1 0 1 0 1]\n",
            " [1 0 1 0 1 0 1 0]\n",
            " [0 1 0 1 0 1 0 1]\n",
            " [1 0 1 0 1 0 1 0]\n",
            " [0 1 0 1 0 1 0 1]\n",
            " [1 0 1 0 1 0 1 0]\n",
            " [0 1 0 1 0 1 0 1]\n",
            " [1 0 1 0 1 0 1 0]]\n"
          ]
        }
      ]
    },
    {
      "cell_type": "code",
      "source": [
        "#Problem3\n",
        "#For the following arrays:\n",
        "#x = np.array([[1,2],[3,5]]) and y = np.array([[5,6],[7,8]]);\n",
        "#v = np.array([9,10]) and w = np.array([11,12]);\n",
        "#Complete all the task using numpy:\n",
        "#1. Add the two array.\n",
        "#2. Subtract the two array.\n",
        "#3. Multiply the array with any integers of your choice.\n",
        "#4. Find the square of each element of the array.\n",
        "#5. Find the dot product between: v(and)w ; x(and)v ; x(and)y.\n",
        "#6. Concatenate x(and)y along row and Concatenate v(and)w along column.\n",
        "#{Hint:try np.concatenate() or np.vstack() functions.\n",
        "#7. Concatenate x(and)v; if you get an error, observe and explain why did\n",
        "x = np.array([[1,2],[3,5]])\n",
        "y = np.array([[5,6],[7,8]]);\n",
        "v = np.array([9,10])\n",
        "w = np.array([11,12]);\n",
        "print(\"The addition of the two array\",np.add(x,y))\n",
        "print(\"The subtraction of two array\",np.subtract(v,w))\n",
        "print(\"The multiplication \",np.multiply(2,x))\n",
        "print(\"The square of x\",np.square(x))\n",
        "print(\"The square of y\",np.square(y))\n",
        "print(\"The square of v\",np.square(v))\n",
        "print(\"The square of w\",np.square(w))\n",
        "print(\"the dot product of v and w\",np.dot(v,w))\n",
        "print(\"the dot product of x and v\",np.dot(x,v))\n",
        "print(\"the dot product of x and y\",np.dot(x,y))\n",
        "\n"
      ],
      "metadata": {
        "colab": {
          "base_uri": "https://localhost:8080/"
        },
        "id": "1Wh-j0fE89CM",
        "outputId": "cba2f80a-fdf7-4854-95ed-006e1bdff253"
      },
      "execution_count": null,
      "outputs": [
        {
          "output_type": "stream",
          "name": "stdout",
          "text": [
            "The addition of the two array [[ 6  8]\n",
            " [10 13]]\n",
            "The subtraction of two array [-2 -2]\n",
            "The multiplication  [[ 2  4]\n",
            " [ 6 10]]\n",
            "The square of x [[ 1  4]\n",
            " [ 9 25]]\n",
            "The square of y [[25 36]\n",
            " [49 64]]\n",
            "The square of v [ 81 100]\n",
            "The square of w [121 144]\n",
            "the dot product of v and w 219\n",
            "the dot product of x and v [29 77]\n",
            "the dot product of x and y [[19 22]\n",
            " [50 58]]\n"
          ]
        }
      ]
    },
    {
      "cell_type": "code",
      "source": [
        "#Problem4:\n",
        "#For the following arrays:\n",
        " #A = np.array([[3,4],[7,8]]) and B = np.array([[5,3],[2,1]]);\n",
        " #Prove following with Numpy:\n",
        " #1. Prove A.A−1 = I.\n",
        " #2. Prove AB= BA.\n",
        " #3. Prove (AB)T = BTAT.\n",
        "A = np.array([[3,4],[7,8]])\n",
        "B = np.array([[5,3],[2,1]])\n",
        "#2. Prove AB= BA\n",
        "AB=np.dot(A,B)\n",
        "BA=np.dot(B,A)\n",
        "print(\"The dot product of AB is\",AB)\n",
        "print(\"The dot product of BA is\",BA)\n",
        "#3. Prove (AB)T = BTAT.\n",
        "AB=np.dot(A,B)\n",
        "ABT=np.transpose(AB)\n",
        "BT=np.transpose(B)\n",
        "AT=np.transpose(A)\n",
        "BT_AT=np.dot(BT,AT)\n",
        "print(\"(AB)T=\",ABT)\n",
        "print(\"BT_AT=\",BT_AT)\n",
        "\n",
        "\n",
        "\n",
        "\n"
      ],
      "metadata": {
        "colab": {
          "base_uri": "https://localhost:8080/"
        },
        "id": "79hV1Qz7AJHQ",
        "outputId": "691ad1a7-c5d0-4b4a-e30a-411bcdffa4cf"
      },
      "execution_count": null,
      "outputs": [
        {
          "output_type": "stream",
          "name": "stdout",
          "text": [
            "The dot product of AB is [[23 13]\n",
            " [51 29]]\n",
            "The dot product of BA is [[36 44]\n",
            " [13 16]]\n",
            "(AB)T= [[23 51]\n",
            " [13 29]]\n",
            "BT_AT= [[23 51]\n",
            " [13 29]]\n"
          ]
        }
      ]
    },
    {
      "cell_type": "code",
      "source": [
        "#how fast is numpy\n",
        "#Using Python Lists, perform element-wise addition of two lists of size 1,000,000. Measure and Print the time taken for this operation.\n",
        "import time\n",
        "import random\n",
        "list1=[]\n",
        "list2=[]\n",
        "addition=[]\n",
        "for i in range(1000000):\n",
        "  list1.append(random.randint(0,100))\n",
        "  list2.append(random.randint(0,100))\n",
        "startTime=time.time()\n",
        "\n",
        "for i in range(1000000):\n",
        "  addition.append(list1[i]+list2[i])\n",
        "endTime=time.time()\n",
        "\n",
        "totalTimeTaken=endTime-startTime\n",
        "print(\"Total time taken when adding two list\",totalTimeTaken)"
      ],
      "metadata": {
        "colab": {
          "base_uri": "https://localhost:8080/"
        },
        "id": "yai3carpWXYE",
        "outputId": "619525be-e80c-4073-f268-86804e99bf81"
      },
      "execution_count": null,
      "outputs": [
        {
          "output_type": "stream",
          "name": "stdout",
          "text": [
            "Total time taken when adding two list 0.23402976989746094\n"
          ]
        }
      ]
    },
    {
      "cell_type": "code",
      "source": [
        "# Using Numpy Arrays, Repeat the calculation and measure and print the time taken for this operations.\n",
        "import numpy as np\n",
        "import time\n",
        "import random\n",
        "\n",
        "addition=[]\n",
        "array1=np.random.randint(1,10,size=1000000)\n",
        "array2=np.random.randint(1,10,size=1000000)\n",
        "startTime=time.time()\n",
        "addition=np.add(array1,array2)\n",
        "endTime=time.time()\n",
        "totalTimeTaken=endTime-startTime\n",
        "print(\"Total time taken when adding two list\",totalTimeTaken)"
      ],
      "metadata": {
        "colab": {
          "base_uri": "https://localhost:8080/"
        },
        "id": "1Z-Jm_xDbwt6",
        "outputId": "d53e9170-486d-4ffd-c8ca-a691c7d62f38"
      },
      "execution_count": null,
      "outputs": [
        {
          "output_type": "stream",
          "name": "stdout",
          "text": [
            "Total time taken when adding two list 0.004617452621459961\n"
          ]
        }
      ]
    },
    {
      "cell_type": "code",
      "source": [
        "# Using Python Lists, perform element-wise multiplication of two lists of size 1,000,000. Measure and Print the time taken for this operation\n",
        "import numpy as np\n",
        "import time\n",
        "import random\n",
        "\n",
        "multiplication=[]\n",
        "array1=np.random.randint(1,10,size=1000000)\n",
        "array2=np.random.randint(1,10,size=1000000)\n",
        "startTime=time.time()\n",
        "multiplication=np.multiply(array1,array2)\n",
        "endTime=time.time()\n",
        "totalTimeTaken=endTime-startTime\n",
        "print(\"Total time taken when multiplying two list\",totalTimeTaken)"
      ],
      "metadata": {
        "colab": {
          "base_uri": "https://localhost:8080/"
        },
        "id": "Fhm9GKyjcO0p",
        "outputId": "2c5f32f4-53e9-4c50-a974-ca3e8459471c"
      },
      "execution_count": null,
      "outputs": [
        {
          "output_type": "stream",
          "name": "stdout",
          "text": [
            "Total time taken when multiplying two list 0.004762887954711914\n"
          ]
        }
      ]
    }
  ]
}