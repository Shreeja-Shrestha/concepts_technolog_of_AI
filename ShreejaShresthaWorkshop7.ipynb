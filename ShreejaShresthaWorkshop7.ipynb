{
  "nbformat": 4,
  "nbformat_minor": 0,
  "metadata": {
    "colab": {
      "provenance": []
    },
    "kernelspec": {
      "name": "python3",
      "display_name": "Python 3"
    },
    "language_info": {
      "name": "python"
    }
  },
  "cells": [
    {
      "cell_type": "code",
      "execution_count": null,
      "metadata": {
        "id": "74eLy6sUn28u",
        "colab": {
          "base_uri": "https://localhost:8080/"
        },
        "outputId": "2877c796-411b-46fa-9c4b-d03afb2c6c21"
      },
      "outputs": [
        {
          "output_type": "stream",
          "name": "stdout",
          "text": [
            "(768, 8)\n"
          ]
        }
      ],
      "source": [
        "import pandas as pd\n",
        "data=pd.read_csv(\"/content/drive/MyDrive/AI/pimaindian.csv\")\n",
        "X= data.drop(columns=[\"Outcome\"])\n",
        "print(X.shape)\n"
      ]
    },
    {
      "cell_type": "code",
      "source": [
        "Y=data[\"Outcome\"]\n",
        "print(Y.shape)"
      ],
      "metadata": {
        "colab": {
          "base_uri": "https://localhost:8080/"
        },
        "id": "alBPjzSzwXrS",
        "outputId": "728e4cc3-7364-4d30-861c-74c7009037d1"
      },
      "execution_count": null,
      "outputs": [
        {
          "output_type": "stream",
          "name": "stdout",
          "text": [
            "(768,)\n"
          ]
        }
      ]
    },
    {
      "cell_type": "code",
      "source": [
        "from sklearn.model_selection import train_test_split\n",
        "X_train=train_test_split(X,Y,test_size=0.25,random_state=None)\n",
        "X_test=train_test_split(X,Y,test_size=0.25)\n",
        "Y_train=train_test_split(X,Y,test_size=0.25)\n",
        "Y_test=train_test_split(X,Y,test_size=0.25)\n"
      ],
      "metadata": {
        "id": "OeGCZjGTwiiU"
      },
      "execution_count": null,
      "outputs": []
    },
    {
      "cell_type": "code",
      "source": [
        "from sklearn.model_selection import train_test_split\n",
        "import numpy as np\n",
        "\n",
        "X = np.array([[1, 2], [3, 4], [5, 6], [7, 8], [9, 10]])\n",
        "Y= np.array([0, 1, 0, 1, 0])\n",
        "# Split the dataset (80% training, 20% testing)\n",
        "X_train, X_test, y_train, y_test = train_test_split(X, Y, test_size=0.2, random_state=42)\n",
        "print(\"X_train:\", X_train)\n",
        "print(\"X_test:\", X_test)\n",
        "print(\"y_train:\", Y_train)\n",
        "print(\"y_test:\", Y_test)\n"
      ],
      "metadata": {
        "colab": {
          "base_uri": "https://localhost:8080/"
        },
        "id": "1zpTY_ryzGl-",
        "outputId": "e7b4acbd-4a14-4f02-cee4-54490dc574dd"
      },
      "execution_count": null,
      "outputs": [
        {
          "output_type": "stream",
          "name": "stdout",
          "text": [
            "X_train: [[ 9 10]\n",
            " [ 5  6]\n",
            " [ 1  2]\n",
            " [ 7  8]]\n",
            "X_test: [[3 4]]\n",
            "y_train: [     Pregnancies  Glucose  BloodPressure  SkinThickness  Insulin   BMI  \\\n",
            "13             1      189             60             23      846  30.1   \n",
            "489            8      194             80              0        0  26.1   \n",
            "411            1      112             72             30      176  34.4   \n",
            "195            5      158             84             41      210  39.4   \n",
            "754            8      154             78             32        0  32.4   \n",
            "..           ...      ...            ...            ...      ...   ...   \n",
            "144            4      154             62             31      284  32.8   \n",
            "522            6      114              0              0        0   0.0   \n",
            "78             0      131              0              0        0  43.2   \n",
            "365            5       99             54             28       83  34.0   \n",
            "613            6      105             80             28        0  32.5   \n",
            "\n",
            "     DiabetesPedigreeFunction  Age  \n",
            "13                      0.398   59  \n",
            "489                     0.551   67  \n",
            "411                     0.528   25  \n",
            "195                     0.395   29  \n",
            "754                     0.443   45  \n",
            "..                        ...  ...  \n",
            "144                     0.237   23  \n",
            "522                     0.189   26  \n",
            "78                      0.270   26  \n",
            "365                     0.499   30  \n",
            "613                     0.878   26  \n",
            "\n",
            "[576 rows x 8 columns],      Pregnancies  Glucose  BloodPressure  SkinThickness  Insulin   BMI  \\\n",
            "118            4       97             60             23        0  28.2   \n",
            "494            3       80              0              0        0   0.0   \n",
            "449            0      120             74             18       63  30.5   \n",
            "176            6       85             78              0        0  31.2   \n",
            "293            1      128             48             45      194  40.5   \n",
            "..           ...      ...            ...            ...      ...   ...   \n",
            "602            1      124             74             36        0  27.8   \n",
            "567            6       92             62             32      126  32.0   \n",
            "399            3      193             70             31        0  34.9   \n",
            "538            0      127             80             37      210  36.3   \n",
            "276            7      106             60             24        0  26.5   \n",
            "\n",
            "     DiabetesPedigreeFunction  Age  \n",
            "118                     0.443   22  \n",
            "494                     0.174   22  \n",
            "449                     0.285   26  \n",
            "176                     0.382   42  \n",
            "293                     0.613   24  \n",
            "..                        ...  ...  \n",
            "602                     0.100   30  \n",
            "567                     0.085   46  \n",
            "399                     0.241   25  \n",
            "538                     0.804   23  \n",
            "276                     0.296   29  \n",
            "\n",
            "[192 rows x 8 columns], 13     1\n",
            "489    0\n",
            "411    0\n",
            "195    1\n",
            "754    1\n",
            "      ..\n",
            "144    0\n",
            "522    0\n",
            "78     1\n",
            "365    0\n",
            "613    0\n",
            "Name: Outcome, Length: 576, dtype: int64, 118    0\n",
            "494    0\n",
            "449    0\n",
            "176    0\n",
            "293    1\n",
            "      ..\n",
            "602    0\n",
            "567    0\n",
            "399    1\n",
            "538    0\n",
            "276    1\n",
            "Name: Outcome, Length: 192, dtype: int64]\n",
            "y_test: [     Pregnancies  Glucose  BloodPressure  SkinThickness  Insulin   BMI  \\\n",
            "546            5      187             76             27      207  43.6   \n",
            "504            3       96             78             39        0  37.3   \n",
            "42             7      106             92             18        0  22.7   \n",
            "540            8      100             74             40      215  39.4   \n",
            "421            2       94             68             18       76  26.0   \n",
            "..           ...      ...            ...            ...      ...   ...   \n",
            "25            10      125             70             26      115  31.1   \n",
            "729            2       92             52              0        0  30.1   \n",
            "603            7      150             78             29      126  35.2   \n",
            "579            2      197             70             99        0  34.7   \n",
            "542           10       90             85             32        0  34.9   \n",
            "\n",
            "     DiabetesPedigreeFunction  Age  \n",
            "546                     1.034   53  \n",
            "504                     0.238   40  \n",
            "42                      0.235   48  \n",
            "540                     0.661   43  \n",
            "421                     0.561   21  \n",
            "..                        ...  ...  \n",
            "25                      0.205   41  \n",
            "729                     0.141   22  \n",
            "603                     0.692   54  \n",
            "579                     0.575   62  \n",
            "542                     0.825   56  \n",
            "\n",
            "[576 rows x 8 columns],      Pregnancies  Glucose  BloodPressure  SkinThickness  Insulin   BMI  \\\n",
            "329            6      105             70             32       68  30.8   \n",
            "253            0       86             68             32        0  35.8   \n",
            "28            13      145             82             19      110  22.2   \n",
            "518           13       76             60              0        0  32.8   \n",
            "36            11      138             76              0        0  33.2   \n",
            "..           ...      ...            ...            ...      ...   ...   \n",
            "207            5      162            104              0        0  37.7   \n",
            "417            4      144             82             32        0  38.5   \n",
            "145            0      102             75             23        0   0.0   \n",
            "389            3      100             68             23       81  31.6   \n",
            "362            5      103            108             37        0  39.2   \n",
            "\n",
            "     DiabetesPedigreeFunction  Age  \n",
            "329                     0.122   37  \n",
            "253                     0.238   25  \n",
            "28                      0.245   57  \n",
            "518                     0.180   41  \n",
            "36                      0.420   35  \n",
            "..                        ...  ...  \n",
            "207                     0.151   52  \n",
            "417                     0.554   37  \n",
            "145                     0.572   21  \n",
            "389                     0.949   28  \n",
            "362                     0.305   65  \n",
            "\n",
            "[192 rows x 8 columns], 546    1\n",
            "504    0\n",
            "42     0\n",
            "540    1\n",
            "421    0\n",
            "      ..\n",
            "25     1\n",
            "729    0\n",
            "603    1\n",
            "579    1\n",
            "542    1\n",
            "Name: Outcome, Length: 576, dtype: int64, 329    0\n",
            "253    0\n",
            "28     0\n",
            "518    0\n",
            "36     0\n",
            "      ..\n",
            "207    1\n",
            "417    1\n",
            "145    0\n",
            "389    0\n",
            "362    0\n",
            "Name: Outcome, Length: 192, dtype: int64]\n"
          ]
        }
      ]
    },
    {
      "cell_type": "code",
      "source": [
        "from sklearn.neighbors import KNeighborsClassifier from sklearn.datasets\n",
        "import load_iris from sklearn.model_selection import train_test_split\n",
        "X_train, X_test, y_train, y_test = train_test_split(X, y, test_size=0.3, random_state=42)\n",
        "# Set hyper-parameters for the KNeighborsClassifier clf = KNeighborsClassifier(n_neighbors=5) # Train the model using the training data clf.fit(X_train, y_train)\n",
        "# Make predictions on the first 5 samples from X print(\"Predictions for the first 5 samples:\", clf.predict(X [:5]))\n",
        "\n",
        "\n",
        "\n"
      ],
      "metadata": {
        "id": "CpT5E98Y5w8I"
      },
      "execution_count": null,
      "outputs": []
    }
  ]
}