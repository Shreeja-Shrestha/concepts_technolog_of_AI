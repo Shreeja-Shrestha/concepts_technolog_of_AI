{
  "cells": [
    {
      "cell_type": "markdown",
      "id": "eada76dd",
      "metadata": {
        "id": "eada76dd"
      },
      "source": [
        "**a)Create a List containing the first 100 terms of the sequence: 0, 4, 8, 12, 16, ···.**"
      ]
    },
    {
      "cell_type": "code",
      "execution_count": null,
      "id": "54ebad69",
      "metadata": {
        "id": "54ebad69",
        "outputId": "79048c4c-b1cd-441c-a318-aa0eabb16a7e"
      },
      "outputs": [
        {
          "name": "stdout",
          "output_type": "stream",
          "text": [
            "0 4 8 12 16 20 24 28 32 36 40 44 48 52 56 60 64 68 72 76 80 84 88 92 96 "
          ]
        }
      ],
      "source": [
        "def sequence():\n",
        "    for i in range(0,100,4):#i is loop variable and 0 is initilizing number and 100 is terminating point and 4 is the steps\n",
        "        print(i,end =\" \")#here i is printed\n",
        "\n",
        "sequence()"
      ]
    },
    {
      "cell_type": "markdown",
      "id": "8b0f99fa",
      "metadata": {
        "id": "8b0f99fa"
      },
      "source": [
        "**2.Create a List containing the first 20 terms of the sequence: 2, 4, 8, 16, 32, ···.**"
      ]
    },
    {
      "cell_type": "code",
      "execution_count": null,
      "id": "d0071782",
      "metadata": {
        "id": "d0071782",
        "outputId": "270ce2d3-29a3-4657-f52d-200610a7d851"
      },
      "outputs": [
        {
          "name": "stdout",
          "output_type": "stream",
          "text": [
            "2 4 8 16 "
          ]
        }
      ],
      "source": [
        "def sequence():\n",
        "    x=2#initilizing point is 2\n",
        "    while x<20:# loop will run until the x is less than 20\n",
        "        print(x,end=\" \")#here x is prited and multiplied by 2 in each iteration.\n",
        "        x=x*2\n",
        "sequence()\n"
      ]
    },
    {
      "cell_type": "markdown",
      "id": "ee78f104",
      "metadata": {
        "id": "ee78f104"
      },
      "source": [
        "**3.Write Python code to find the sum of the sequences created in Problem 1 and\n",
        "Problem 2.**"
      ]
    },
    {
      "cell_type": "code",
      "execution_count": null,
      "id": "e2244891",
      "metadata": {
        "id": "e2244891",
        "outputId": "2d32d499-0a0e-4ca2-a7a1-e28fc0155d3c"
      },
      "outputs": [
        {
          "name": "stdout",
          "output_type": "stream",
          "text": [
            "the list [0, 4, 8, 12, 16, 20, 24, 28, 32, 36, 40, 44, 48, 52, 56, 60, 64, 68, 72, 76, 80, 84, 88, 92, 96, 100, 104, 108, 112, 116, 120, 124, 128, 132, 136, 140, 144, 148, 152, 156, 160, 164, 168, 172, 176, 180, 184, 188, 192, 196, 200, 204, 208, 212, 216, 220, 224, 228, 232, 236, 240, 244, 248, 252, 256, 260, 264, 268, 272, 276, 280, 284, 288, 292, 296, 300, 304, 308, 312, 316, 320, 324, 328, 332, 336, 340, 344, 348, 352, 356, 360, 364, 368, 372, 376, 380, 384, 388, 392, 396, 400]\n",
            "the sum 20200\n"
          ]
        }
      ],
      "source": [
        "sequencelist=[]\n",
        "firstTerm=0;\n",
        "for i in range(0,101):\n",
        "    sequencelist.append(firstTerm)\n",
        "    firstTerm=firstTerm+4;\n",
        "print(\"the list\",sequencelist)\n",
        "print(\"the sum\",sum(sequencelist))\n",
        "\n",
        "\n",
        "\n",
        "\n",
        "\n",
        "\n",
        "\n"
      ]
    },
    {
      "cell_type": "code",
      "execution_count": null,
      "id": "dd4d5860",
      "metadata": {
        "id": "dd4d5860",
        "outputId": "11fd6738-29a6-4644-988b-96280e001eac"
      },
      "outputs": [
        {
          "name": "stdout",
          "output_type": "stream",
          "text": [
            "the list is [2, 4, 8, 16, 32, 64, 128, 256, 512, 1024, 2048, 4096, 8192, 16384, 32768, 65536, 131072, 262144, 524288]\n",
            "the sum is 1048574\n"
          ]
        }
      ],
      "source": [
        "sequencelist=[]\n",
        "ratio=2\n",
        "for i in range(2,21):\n",
        "    sequencelist.append(ratio)\n",
        "    ratio=ratio*2\n",
        "print(\"the list is\",sequencelist)\n",
        "print(\"the sum is\",sum(sequencelist))"
      ]
    },
    {
      "cell_type": "markdown",
      "id": "0061bd2c",
      "metadata": {
        "id": "0061bd2c"
      },
      "source": [
        "**4.Write a Python program to find missing numbers from a list.\n",
        "Input : [1,2,3,4,6,7,10]\n",
        "Output : [5, 8, 9]**"
      ]
    },
    {
      "cell_type": "code",
      "execution_count": null,
      "id": "9b94e981",
      "metadata": {
        "id": "9b94e981"
      },
      "outputs": [],
      "source": [
        "def missingNumber(numbers):\n",
        "    output=[]\n",
        "    for i in range(1,11):\n",
        "        if i not in numbers:#checking the numbers from 1 to 10\n",
        "            output.append(i)numbers missing is placed on empty list\n",
        "    return output\n",
        "numbers=[1,2,3,4,6,7,10]\n",
        "print(missingNumber(numbers))"
      ]
    },
    {
      "cell_type": "markdown",
      "id": "4ad955e3",
      "metadata": {
        "id": "4ad955e3"
      },
      "source": [
        "**5.Write Python code to generate Fibonacci sequence containing the first 20\n",
        "terms.**"
      ]
    },
    {
      "cell_type": "code",
      "execution_count": null,
      "id": "bde09c7f",
      "metadata": {
        "id": "bde09c7f",
        "outputId": "626af472-8710-45d0-814e-69bdf95ed719"
      },
      "outputs": [
        {
          "name": "stdout",
          "output_type": "stream",
          "text": [
            "enter the number20\n",
            "0 1 1 2 3 5 8 13 21 34 55 89 144 233 377 610 987 1597 2584 4181 None\n"
          ]
        }
      ],
      "source": [
        "def fibonacciSeries(num):\n",
        "    a=0\n",
        "    b=1\n",
        "    i=0\n",
        "    while i<num:\n",
        "        print(a,end =\" \")\n",
        "        c=a+b\n",
        "        a=b\n",
        "        b=c\n",
        "\n",
        "\n",
        "        i+=1\n",
        "num=int(input(\"enter the number\"))\n",
        "fib=fibonacciSeries(num)\n",
        "print(fib)\n",
        "\n"
      ]
    },
    {
      "cell_type": "markdown",
      "id": "ea51abcc",
      "metadata": {
        "id": "ea51abcc"
      },
      "source": [
        "**6.Write Python code to generate the first 10 rows of Pascal’s Triangle.**\n",
        "\n"
      ]
    },
    {
      "cell_type": "code",
      "execution_count": null,
      "id": "cec519d0",
      "metadata": {
        "id": "cec519d0",
        "outputId": "294434ca-d0cc-4e34-fbd7-03a8412ac515"
      },
      "outputs": [
        {
          "name": "stdout",
          "output_type": "stream",
          "text": [
            "[[1], [1, 1], [1, 2, 1], [1, 3, 3, 1], [1, 4, 6, 4, 1], [1, 5, 10, 10, 5, 1], [1, 6, 15, 20, 15, 6, 1], [1, 7, 21, 35, 35, 21, 7, 1], [1, 8, 28, 56, 70, 56, 28, 8, 1], [1, 9, 36, 84, 126, 126, 84, 36, 9, 1]]\n"
          ]
        }
      ],
      "source": [
        "def pascalTriangle(n):\n",
        "    a=[[]for i in range(n)]\n",
        "\n",
        "    for i in range(n):\n",
        "        for j in range(i+1):\n",
        "            if(j<i):\n",
        "                if(j==0):\n",
        "                    a[i].append(1)\n",
        "                else:\n",
        "                    a[i].append(a[i-1][j]+a[i-1][j-1])\n",
        "\n",
        "            elif(j==i):\n",
        "                a[i].append(1)\n",
        "    return a\n",
        "n=10\n",
        "print(pascalTriangle(n)\n",
        "\n"
      ]
    },
    {
      "cell_type": "markdown",
      "id": "1345e2a7",
      "metadata": {
        "id": "1345e2a7"
      },
      "source": [
        "**7.Create a Python Program that will create a graph of y = f(x) where;\n",
        "f(x) = (3x*2)\n",
        "f(x) = 4x − 3**\n"
      ]
    },
    {
      "cell_type": "code",
      "execution_count": null,
      "id": "21b2e41d",
      "metadata": {
        "id": "21b2e41d",
        "outputId": "e6dfe4f7-6aae-40c7-e8b4-667a3bbe8bbb"
      },
      "outputs": [
        {
          "data": {
            "image/png": "[encoded data removed]",
            "text/plain": [
              "<Figure size 640x480 with 1 Axes>"
            ]
          },
          "metadata": {},
          "output_type": "display_data"
        }
      ],
      "source": [
        "import matplotlib.pyplot as plt\n",
        "def value(x):\n",
        "    result=(3*x)**2\n",
        "    return result\n",
        "x=[]\n",
        "y=[]\n",
        "for i in range(1,20):\n",
        "    x.append(i)\n",
        "    y.append(value(i))\n",
        "plt.plot(x,y)\n",
        "plt.xlabel(\"x-axis\")\n",
        "plt.ylabel(\"y-axis\")\n",
        "\n",
        "plt.grid()"
      ]
    },
    {
      "cell_type": "code",
      "execution_count": null,
      "id": "84f05c59",
      "metadata": {
        "id": "84f05c59",
        "outputId": "00a416ba-7cf5-4fdc-cc84-90f9693e529c"
      },
      "outputs": [
        {
          "data": {
            "image/png": "[encoded data removed]",
            "text/plain": [
              "<Figure size 640x480 with 1 Axes>"
            ]
          },
          "metadata": {},
          "output_type": "display_data"
        }
      ],
      "source": [
        "def value(x):\n",
        "    result=4*x-3\n",
        "    return result\n",
        "x=[]\n",
        "y=[]\n",
        "for i in range(1,20):\n",
        "    x.append(i)#value  of i appending in x after iteration\n",
        "    y.append(value(i))#value of i appending in x after iteration\n",
        "plt.plot(x,y)\n",
        "plt.xlabel(\"x-axis\")\n",
        "plt.ylabel(\"y-axis\")\n",
        "\n",
        "plt.grid()"
      ]
    },
    {
      "cell_type": "code",
      "execution_count": null,
      "id": "83c4f616",
      "metadata": {
        "id": "83c4f616"
      },
      "outputs": [],
      "source": []
    }
  ],
  "metadata": {
    "kernelspec": {
      "display_name": "Python 3 (ipykernel)",
      "language": "python",
      "name": "python3"
    },
    "language_info": {
      "codemirror_mode": {
        "name": "ipython",
        "version": 3
      },
      "file_extension": ".py",
      "mimetype": "text/x-python",
      "name": "python",
      "nbconvert_exporter": "python",
      "pygments_lexer": "ipython3",
      "version": "3.11.5"
    },
    "colab": {
      "provenance": []
    }
  },
  "nbformat": 4,
  "nbformat_minor": 5
}